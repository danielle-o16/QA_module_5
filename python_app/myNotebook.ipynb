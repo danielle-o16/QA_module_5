{
 "cells": [
  {
   "cell_type": "code",
   "execution_count": 27,
   "metadata": {},
   "outputs": [
    {
     "name": "stdout",
     "output_type": "stream",
     "text": [
      "✅ Finished cleaning.\n",
      "🧾 Rows in final file: 114\n",
      "    id                                      books book_checkout book_returned  \\\n",
      "0  1.0                         Catcher in the Rye    2023-02-20    2023-02-25   \n",
      "1  2.0           Lord of the rings the two towers    2023-03-24    2023-03-21   \n",
      "2  3.0  Lord of the Rings: The Return of the King    2023-03-29    2023-03-25   \n",
      "3  4.0                                 The hobbit    2023-04-02    2023-03-25   \n",
      "4  5.0                                       Dune    2023-04-02    2023-03-25   \n",
      "\n",
      "  days_allowed_to_borrow  customer_id  \n",
      "0                2 weeks          1.0  \n",
      "1                2 weeks          2.0  \n",
      "2                2 weeks          3.0  \n",
      "3                2 weeks          4.0  \n",
      "4                2 weeks          5.0  \n"
     ]
    },
    {
     "name": "stderr",
     "output_type": "stream",
     "text": [
      "C:\\Users\\Admin\\AppData\\Local\\Temp\\ipykernel_12876\\550046233.py:10: FutureWarning: DataFrame.applymap has been deprecated. Use DataFrame.map instead.\n",
      "  df = df.applymap(lambda x: x.strip() if isinstance(x, str) else x)\n"
     ]
    }
   ],
   "source": [
    "import pandas as pd\n",
    "\n",
    "# Load the CSV (adjust if your file is comma-separated instead of tab-separated)\n",
    "df = pd.read_csv(\"03_Library Systembook.csv\")\n",
    "\n",
    "# Standardize column names (lowercase and underscores)\n",
    "df.columns = df.columns.str.strip().str.lower().str.replace(\" \", \"_\")\n",
    "\n",
    "# Strip whitespace from string cells\n",
    "df = df.applymap(lambda x: x.strip() if isinstance(x, str) else x)\n",
    "\n",
    "# Remove quotes from date columns (if any)\n",
    "df['book_checkout'] = df['book_checkout'].str.replace('\"', '', regex=False)\n",
    "df['book_returned'] = df['book_returned'].str.replace('\"', '', regex=False)\n",
    "\n",
    "# Convert to datetime format (but don't drop anything!)\n",
    "df['book_checkout'] = pd.to_datetime(df['book_checkout'], format='%d/%m/%Y', errors='coerce')\n",
    "df['book_returned'] = pd.to_datetime(df['book_returned'], format='%d/%m/%Y', errors='coerce')\n",
    "\n",
    "# Optional: fix known typos in book names (example)\n",
    "df['books'] = df['books'].replace({\n",
    "    'Lord of the rings the return of the kind': 'Lord of the Rings: The Return of the King'\n",
    "})\n",
    "\n",
    "# Output checks — how many rows were parsed successfully?\n",
    "print(\"✅ Finished cleaning.\")\n",
    "print(\"🧾 Rows in final file:\", len(df))\n",
    "print(df.head())\n",
    "\n",
    "# Save cleaned version (still includes bad rows for your review)\n",
    "df.to_csv(\"cleaned_library_data.csv\", index=False)\n"
   ]
  },
  {
   "cell_type": "code",
   "execution_count": 31,
   "metadata": {},
   "outputs": [
    {
     "name": "stdout",
     "output_type": "stream",
     "text": [
      "Rows loaded: 8\n",
      "   customer_id     customer_name\n",
      "0          1.0          Jane Doe\n",
      "1          2.0        John Smith\n",
      "2          3.0        Dan Reeves\n",
      "4          5.0    William Holden\n",
      "5          6.0     Jaztyn Forest\n",
      "6          7.0     Jackie Irving\n",
      "7          8.0  Matthew Stirling\n",
      "8          9.0         Emory Ted\n"
     ]
    },
    {
     "name": "stderr",
     "output_type": "stream",
     "text": [
      "C:\\Users\\Admin\\AppData\\Local\\Temp\\ipykernel_12876\\2163004682.py:10: FutureWarning: DataFrame.applymap has been deprecated. Use DataFrame.map instead.\n",
      "  df = df.applymap(lambda x: x.strip() if isinstance(x, str) else x)\n"
     ]
    }
   ],
   "source": [
    "import pandas as pd\n",
    "\n",
    "# Load data\n",
    "df = pd.read_csv(\"03_Library SystemCustomers.csv\")\n",
    "\n",
    "# Clean column names\n",
    "df.columns = df.columns.str.strip().str.lower().str.replace(\" \", \"_\")\n",
    "\n",
    "# Strip whitespace from all string cells\n",
    "df = df.applymap(lambda x: x.strip() if isinstance(x, str) else x)\n",
    "\n",
    "#blank rows\n",
    "df = df.dropna(how='all')\n",
    "\n",
    "# Show data so you can confirm nothing was lost\n",
    "print(\"Rows loaded:\", len(df))\n",
    "print(df)\n",
    "\n",
    "# Save cleaned file (with all rows, even NaNs)\n",
    "df.to_csv(\"cleaned_customers.csv\", index=False)\n"
   ]
  }
 ],
 "metadata": {
  "kernelspec": {
   "display_name": "base",
   "language": "python",
   "name": "python3"
  },
  "language_info": {
   "codemirror_mode": {
    "name": "ipython",
    "version": 3
   },
   "file_extension": ".py",
   "mimetype": "text/x-python",
   "name": "python",
   "nbconvert_exporter": "python",
   "pygments_lexer": "ipython3",
   "version": "3.11.7"
  }
 },
 "nbformat": 4,
 "nbformat_minor": 2
}
